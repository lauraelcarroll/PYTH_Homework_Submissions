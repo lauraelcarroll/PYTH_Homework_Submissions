{
  "nbformat": 4,
  "nbformat_minor": 0,
  "metadata": {
    "colab": {
      "name": "PokemonProject.ipynb",
      "version": "0.3.2",
      "provenance": [],
      "collapsed_sections": []
    },
    "kernelspec": {
      "name": "python3",
      "display_name": "Python 3"
    }
  },
  "cells": [
    {
      "cell_type": "code",
      "metadata": {
        "id": "t9zvHW8ALNKr",
        "colab_type": "code",
        "outputId": "17958099-4214-479c-cd15-c2d7837a22eb",
        "colab": {
          "base_uri": "https://localhost:8080/",
          "height": 204
        }
      },
      "source": [
        "#imports\n",
        "\n",
        "import pandas as pd\n",
        "import numpy as np\n",
        "import matplotlib.pyplot as plt\n",
        "\n",
        "#allow plots to display\n",
        "%matplotlib inline\n",
        "\n",
        "#code to allow for font control if desired\n",
        "plt.rcParams['figure.figsize'] = (18, 6)\n",
        "plt.rcParams['font.size'] = 18\n",
        "\n",
        "#import file\n",
        "pokemon = pd.read_csv(\"./Pokemon.csv\")\n",
        "pokemon.head()"
      ],
      "execution_count": 22,
      "outputs": [
        {
          "output_type": "execute_result",
          "data": {
            "text/html": [
              "<div>\n",
              "<style scoped>\n",
              "    .dataframe tbody tr th:only-of-type {\n",
              "        vertical-align: middle;\n",
              "    }\n",
              "\n",
              "    .dataframe tbody tr th {\n",
              "        vertical-align: top;\n",
              "    }\n",
              "\n",
              "    .dataframe thead th {\n",
              "        text-align: right;\n",
              "    }\n",
              "</style>\n",
              "<table border=\"1\" class=\"dataframe\">\n",
              "  <thead>\n",
              "    <tr style=\"text-align: right;\">\n",
              "      <th></th>\n",
              "      <th>#</th>\n",
              "      <th>Name</th>\n",
              "      <th>Type 1</th>\n",
              "      <th>Type 2</th>\n",
              "      <th>Total</th>\n",
              "      <th>HP</th>\n",
              "      <th>Attack</th>\n",
              "      <th>Defense</th>\n",
              "      <th>Sp. Atk</th>\n",
              "      <th>Sp. Def</th>\n",
              "      <th>Speed</th>\n",
              "      <th>Generation</th>\n",
              "      <th>Legendary</th>\n",
              "    </tr>\n",
              "  </thead>\n",
              "  <tbody>\n",
              "    <tr>\n",
              "      <th>0</th>\n",
              "      <td>1</td>\n",
              "      <td>Bulbasaur</td>\n",
              "      <td>Grass</td>\n",
              "      <td>Poison</td>\n",
              "      <td>318</td>\n",
              "      <td>45</td>\n",
              "      <td>49</td>\n",
              "      <td>49</td>\n",
              "      <td>65</td>\n",
              "      <td>65</td>\n",
              "      <td>45</td>\n",
              "      <td>1</td>\n",
              "      <td>False</td>\n",
              "    </tr>\n",
              "    <tr>\n",
              "      <th>1</th>\n",
              "      <td>2</td>\n",
              "      <td>Ivysaur</td>\n",
              "      <td>Grass</td>\n",
              "      <td>Poison</td>\n",
              "      <td>405</td>\n",
              "      <td>60</td>\n",
              "      <td>62</td>\n",
              "      <td>63</td>\n",
              "      <td>80</td>\n",
              "      <td>80</td>\n",
              "      <td>60</td>\n",
              "      <td>1</td>\n",
              "      <td>False</td>\n",
              "    </tr>\n",
              "    <tr>\n",
              "      <th>2</th>\n",
              "      <td>3</td>\n",
              "      <td>Venusaur</td>\n",
              "      <td>Grass</td>\n",
              "      <td>Poison</td>\n",
              "      <td>525</td>\n",
              "      <td>80</td>\n",
              "      <td>82</td>\n",
              "      <td>83</td>\n",
              "      <td>100</td>\n",
              "      <td>100</td>\n",
              "      <td>80</td>\n",
              "      <td>1</td>\n",
              "      <td>False</td>\n",
              "    </tr>\n",
              "    <tr>\n",
              "      <th>3</th>\n",
              "      <td>3</td>\n",
              "      <td>VenusaurMega Venusaur</td>\n",
              "      <td>Grass</td>\n",
              "      <td>Poison</td>\n",
              "      <td>625</td>\n",
              "      <td>80</td>\n",
              "      <td>100</td>\n",
              "      <td>123</td>\n",
              "      <td>122</td>\n",
              "      <td>120</td>\n",
              "      <td>80</td>\n",
              "      <td>1</td>\n",
              "      <td>False</td>\n",
              "    </tr>\n",
              "    <tr>\n",
              "      <th>4</th>\n",
              "      <td>4</td>\n",
              "      <td>Charmander</td>\n",
              "      <td>Fire</td>\n",
              "      <td>NaN</td>\n",
              "      <td>309</td>\n",
              "      <td>39</td>\n",
              "      <td>52</td>\n",
              "      <td>43</td>\n",
              "      <td>60</td>\n",
              "      <td>50</td>\n",
              "      <td>65</td>\n",
              "      <td>1</td>\n",
              "      <td>False</td>\n",
              "    </tr>\n",
              "  </tbody>\n",
              "</table>\n",
              "</div>"
            ],
            "text/plain": [
              "   #                   Name Type 1  ... Speed  Generation  Legendary\n",
              "0  1              Bulbasaur  Grass  ...    45           1      False\n",
              "1  2                Ivysaur  Grass  ...    60           1      False\n",
              "2  3               Venusaur  Grass  ...    80           1      False\n",
              "3  3  VenusaurMega Venusaur  Grass  ...    80           1      False\n",
              "4  4             Charmander   Fire  ...    65           1      False\n",
              "\n",
              "[5 rows x 13 columns]"
            ]
          },
          "metadata": {
            "tags": []
          },
          "execution_count": 22
        }
      ]
    },
    {
      "cell_type": "code",
      "metadata": {
        "id": "RFzFGD-qLZXr",
        "colab_type": "code",
        "colab": {}
      },
      "source": [
        "#clean datafile, remove legendary and mega evolutions to remove outliers. reduce to only gen 1\n",
        "\n",
        "#isolate gen 1:\n",
        "pokemon1 = pokemon[pokemon['Generation'] == 1]\n",
        "\n",
        "#remove legendary:\n",
        "pokemon1_NLeg = pokemon1[pokemon1['Legendary'] == False]\n",
        "\n",
        "#remove mega:\n",
        "pokemon1_NLegv2 = pokemon1_NLeg[~pokemon1_NLeg['Name'].str.contains(\"Mega\")]\n"
      ],
      "execution_count": 0,
      "outputs": []
    },
    {
      "cell_type": "code",
      "metadata": {
        "id": "0-ZAOxTS5uRq",
        "colab_type": "code",
        "colab": {
          "base_uri": "https://localhost:8080/",
          "height": 360
        },
        "outputId": "992bd609-a5f4-48c5-9531-ee796fdf8f59"
      },
      "source": [
        "#Duplicate the dataframe and then swap the type 1 and type 2 columns, then merge the two dataframes\n",
        "\n",
        "#copy:\n",
        "pokemon_copy = pokemon1_NLegv2.copy()\n",
        "\n",
        "#swap columns\n",
        "pokemon_copy.rename(columns={'Type 1':'Type 2',\n",
        "                          'Type 2':'Type 1',}, \n",
        "                 inplace=True)\n",
        "\n",
        "#create a list of both copies\n",
        "frames = [pokemon1_NLegv2, pokemon_copy]\n",
        "\n",
        "#combine both\n",
        "combined_types = pd.concat(frames)\n",
        "\n",
        "#doublecheck that the end of the new dataset has the types swapped\n",
        "combined_types.tail()\n",
        "\n",
        "#turns out both sets weren't in the same order, so pandas alphabetized the columns"
      ],
      "execution_count": 18,
      "outputs": [
        {
          "output_type": "stream",
          "text": [
            "/usr/local/lib/python3.6/dist-packages/ipykernel_launcher.py:12: FutureWarning: Sorting because non-concatenation axis is not aligned. A future version\n",
            "of pandas will change to not sort by default.\n",
            "\n",
            "To accept the future behavior, pass 'sort=False'.\n",
            "\n",
            "To retain the current behavior and silence the warning, pass 'sort=True'.\n",
            "\n",
            "  if sys.path[0] == '':\n"
          ],
          "name": "stderr"
        },
        {
          "output_type": "execute_result",
          "data": {
            "text/html": [
              "<div>\n",
              "<style scoped>\n",
              "    .dataframe tbody tr th:only-of-type {\n",
              "        vertical-align: middle;\n",
              "    }\n",
              "\n",
              "    .dataframe tbody tr th {\n",
              "        vertical-align: top;\n",
              "    }\n",
              "\n",
              "    .dataframe thead th {\n",
              "        text-align: right;\n",
              "    }\n",
              "</style>\n",
              "<table border=\"1\" class=\"dataframe\">\n",
              "  <thead>\n",
              "    <tr style=\"text-align: right;\">\n",
              "      <th></th>\n",
              "      <th>#</th>\n",
              "      <th>Attack</th>\n",
              "      <th>Defense</th>\n",
              "      <th>Generation</th>\n",
              "      <th>HP</th>\n",
              "      <th>Legendary</th>\n",
              "      <th>Name</th>\n",
              "      <th>Sp. Atk</th>\n",
              "      <th>Sp. Def</th>\n",
              "      <th>Speed</th>\n",
              "      <th>Total</th>\n",
              "      <th>Type 1</th>\n",
              "      <th>Type 2</th>\n",
              "    </tr>\n",
              "  </thead>\n",
              "  <tbody>\n",
              "    <tr>\n",
              "      <th>155</th>\n",
              "      <td>143</td>\n",
              "      <td>110</td>\n",
              "      <td>65</td>\n",
              "      <td>1</td>\n",
              "      <td>160</td>\n",
              "      <td>False</td>\n",
              "      <td>Snorlax</td>\n",
              "      <td>65</td>\n",
              "      <td>110</td>\n",
              "      <td>30</td>\n",
              "      <td>540</td>\n",
              "      <td>NaN</td>\n",
              "      <td>Normal</td>\n",
              "    </tr>\n",
              "    <tr>\n",
              "      <th>159</th>\n",
              "      <td>147</td>\n",
              "      <td>64</td>\n",
              "      <td>45</td>\n",
              "      <td>1</td>\n",
              "      <td>41</td>\n",
              "      <td>False</td>\n",
              "      <td>Dratini</td>\n",
              "      <td>50</td>\n",
              "      <td>50</td>\n",
              "      <td>50</td>\n",
              "      <td>300</td>\n",
              "      <td>NaN</td>\n",
              "      <td>Dragon</td>\n",
              "    </tr>\n",
              "    <tr>\n",
              "      <th>160</th>\n",
              "      <td>148</td>\n",
              "      <td>84</td>\n",
              "      <td>65</td>\n",
              "      <td>1</td>\n",
              "      <td>61</td>\n",
              "      <td>False</td>\n",
              "      <td>Dragonair</td>\n",
              "      <td>70</td>\n",
              "      <td>70</td>\n",
              "      <td>70</td>\n",
              "      <td>420</td>\n",
              "      <td>NaN</td>\n",
              "      <td>Dragon</td>\n",
              "    </tr>\n",
              "    <tr>\n",
              "      <th>161</th>\n",
              "      <td>149</td>\n",
              "      <td>134</td>\n",
              "      <td>95</td>\n",
              "      <td>1</td>\n",
              "      <td>91</td>\n",
              "      <td>False</td>\n",
              "      <td>Dragonite</td>\n",
              "      <td>100</td>\n",
              "      <td>100</td>\n",
              "      <td>80</td>\n",
              "      <td>600</td>\n",
              "      <td>Flying</td>\n",
              "      <td>Dragon</td>\n",
              "    </tr>\n",
              "    <tr>\n",
              "      <th>165</th>\n",
              "      <td>151</td>\n",
              "      <td>100</td>\n",
              "      <td>100</td>\n",
              "      <td>1</td>\n",
              "      <td>100</td>\n",
              "      <td>False</td>\n",
              "      <td>Mew</td>\n",
              "      <td>100</td>\n",
              "      <td>100</td>\n",
              "      <td>100</td>\n",
              "      <td>600</td>\n",
              "      <td>NaN</td>\n",
              "      <td>Psychic</td>\n",
              "    </tr>\n",
              "  </tbody>\n",
              "</table>\n",
              "</div>"
            ],
            "text/plain": [
              "       #  Attack  Defense  Generation  ...  Speed  Total  Type 1   Type 2\n",
              "155  143     110       65           1  ...     30    540     NaN   Normal\n",
              "159  147      64       45           1  ...     50    300     NaN   Dragon\n",
              "160  148      84       65           1  ...     70    420     NaN   Dragon\n",
              "161  149     134       95           1  ...     80    600  Flying   Dragon\n",
              "165  151     100      100           1  ...    100    600     NaN  Psychic\n",
              "\n",
              "[5 rows x 13 columns]"
            ]
          },
          "metadata": {
            "tags": []
          },
          "execution_count": 18
        }
      ]
    },
    {
      "cell_type": "code",
      "metadata": {
        "id": "SLFFkaZaMyQe",
        "colab_type": "code",
        "outputId": "4410d3a2-a87e-45bf-dc2d-17f369a556db",
        "colab": {
          "base_uri": "https://localhost:8080/",
          "height": 500
        }
      },
      "source": [
        "#create a chart of average stats by type. note, some have two types!!!!!\n",
        "\n",
        "\n",
        "total_by_type = combined_types.groupby(\"Type 1\")['Total'].mean()\n",
        "total_by_type.plot(kind='bar')"
      ],
      "execution_count": 19,
      "outputs": [
        {
          "output_type": "execute_result",
          "data": {
            "text/plain": [
              "<matplotlib.axes._subplots.AxesSubplot at 0x7fdf4b8b9908>"
            ]
          },
          "metadata": {
            "tags": []
          },
          "execution_count": 19
        },
        {
          "output_type": "display_data",
          "data": {
            "image/png": "[encoded data removed]",
            "text/plain": [
              "<Figure size 1296x432 with 1 Axes>"
            ]
          },
          "metadata": {
            "tags": []
          }
        }
      ]
    },
    {
      "cell_type": "code",
      "metadata": {
        "id": "havhPTMqZ91o",
        "colab_type": "code",
        "colab": {}
      },
      "source": [
        "#this portion just checks how many unique combinations of different types there are. ended up not using\n",
        "#pokemon['combined'] = pokemon['Type 1'] + pokemon['Type 2']\n",
        "\n",
        "#print(pokemon['combined'].nunique())\n",
        "#pokemon['combined'].unique()"
      ],
      "execution_count": 0,
      "outputs": []
    },
    {
      "cell_type": "code",
      "metadata": {
        "id": "PRqQjxbiVptN",
        "colab_type": "code",
        "outputId": "7de0427a-0af1-484a-cc3c-68b9b5994020",
        "colab": {
          "base_uri": "https://localhost:8080/",
          "height": 34
        }
      },
      "source": [
        "total_by_typeDF = pd.DataFrame(total_by_type)\n",
        "\n",
        "strongest_type = total_by_typeDF.sort_values(by=['Total'],ascending = False)\n",
        "\n",
        "print(f\"Strongest Type = {strongest_type.head(1).index[0]}\")\n",
        "\n",
        "#was also the strongest by type when only taking type 1 into consideration"
      ],
      "execution_count": 21,
      "outputs": [
        {
          "output_type": "stream",
          "text": [
            "Strongest Type = Ice\n"
          ],
          "name": "stdout"
        }
      ]
    },
    {
      "cell_type": "code",
      "metadata": {
        "id": "d3-DAFutF2Kq",
        "colab_type": "code",
        "colab": {
          "base_uri": "https://localhost:8080/",
          "height": 438
        },
        "outputId": "0b686417-be3d-4e83-bfee-d9dcd0797913"
      },
      "source": [
        "total_by_generation = pokemon.groupby(\"Generation\")['Total'].mean()\n",
        "total_by_generation.plot(kind='bar')"
      ],
      "execution_count": 24,
      "outputs": [
        {
          "output_type": "execute_result",
          "data": {
            "text/plain": [
              "<matplotlib.axes._subplots.AxesSubplot at 0x7fdf48f52748>"
            ]
          },
          "metadata": {
            "tags": []
          },
          "execution_count": 24
        },
        {
          "output_type": "display_data",
          "data": {
            "image/png": "[encoded data removed]",
            "text/plain": [
              "<Figure size 1296x432 with 1 Axes>"
            ]
          },
          "metadata": {
            "tags": []
          }
        }
      ]
    },
    {
      "cell_type": "code",
      "metadata": {
        "id": "1EbuGK_MGcgG",
        "colab_type": "code",
        "colab": {
          "base_uri": "https://localhost:8080/",
          "height": 574
        },
        "outputId": "959e747e-76ac-4f92-8caa-f2507304fe96"
      },
      "source": [
        "\n",
        "#find average of each stat by generation, to break down the previous graph and find out what's tipping the scale\n",
        "total_by_generation_2 = pokemon.groupby(\"Generation\")['Total','Attack','Defense', 'Sp. Atk', 'Sp. Def', 'Speed'].mean()\n",
        "\n",
        "#round the mean stats so they're more managable\n",
        "rounded_total_by_generation_2 = total_by_generation_2.round(1)\n",
        "print(rounded_total_by_generation_2)\n",
        "\n",
        "total_by_generation_2.loc[:,['Attack','Defense', 'Sp. Atk', 'Sp. Def', 'Speed']].plot.bar(stacked=True,)\n",
        "\n"
      ],
      "execution_count": 33,
      "outputs": [
        {
          "output_type": "stream",
          "text": [
            "            Total  Attack  Defense  Sp. Atk  Sp. Def  Speed\n",
            "Generation                                                 \n",
            "1           426.8    76.6     70.9     71.8     69.1   72.6\n",
            "2           418.3    72.0     73.4     65.9     73.9   61.8\n",
            "3           436.2    81.6     74.1     75.8     71.2   66.9\n",
            "4           459.0    82.9     78.1     76.4     77.2   71.3\n",
            "5           435.0    82.1     72.3     72.0     68.7   68.1\n",
            "6           436.4    75.8     76.7     74.3     74.9   66.4\n"
          ],
          "name": "stdout"
        },
        {
          "output_type": "execute_result",
          "data": {
            "text/plain": [
              "<matplotlib.axes._subplots.AxesSubplot at 0x7fdf43336240>"
            ]
          },
          "metadata": {
            "tags": []
          },
          "execution_count": 33
        },
        {
          "output_type": "display_data",
          "data": {
            "image/png": "[encoded data removed]",
            "text/plain": [
              "<Figure size 1296x432 with 1 Axes>"
            ]
          },
          "metadata": {
            "tags": []
          }
        }
      ]
    },
    {
      "cell_type": "code",
      "metadata": {
        "id": "AQTKU2jSHSON",
        "colab_type": "code",
        "colab": {}
      },
      "source": [
        ""
      ],
      "execution_count": 0,
      "outputs": []
    }
  ]
}