{
  "nbformat": 4,
  "nbformat_minor": 0,
  "metadata": {
    "colab": {
      "name": "hw4 7.2.ipynb",
      "version": "0.3.2",
      "provenance": []
    },
    "kernelspec": {
      "name": "python3",
      "display_name": "Python 3"
    }
  },
  "cells": [
    {
      "cell_type": "markdown",
      "metadata": {
        "id": "mv4P-eYW_8Ru",
        "colab_type": "text"
      },
      "source": [
        "<a href=\"https://colab.research.google.com/github/mottaquikarim/PYTH2/blob/master/src/PSETS/nb/classes_pset.ipynb\" target=\"_parent\"><img src=\"https://colab.research.google.com/assets/colab-badge.svg\" alt=\"Open In Colab\"/></a>"
      ]
    },
    {
      "cell_type": "markdown",
      "metadata": {
        "id": "7LwNOrdP_8Rw",
        "colab_type": "text"
      },
      "source": [
        "#  CLASSES\n",
        "\n",
        "## CLASS_BASICS\n",
        "\n",
        "### P1.PY\n",
        "\n",
        "\n"
      ]
    },
    {
      "cell_type": "code",
      "metadata": {
        "id": "AFTwfgmv_8Rx",
        "colab_type": "code",
        "colab": {
          "base_uri": "https://localhost:8080/",
          "height": 34
        },
        "outputId": "76688d93-afe3-485c-9f6b-0ed9a55a6e70"
      },
      "source": [
        "\"\"\"\n",
        "RGB to HEX\n",
        "\"\"\"\n",
        "\n",
        "# Remember our function \"rgb_hex\" from the functions pset? That function took a color in rgb format and returned it in hex format as well as vice versa. Wouldn't it be so much easier to do that with a class called Color?\n",
        "\n",
        "# Define a class called \"Color\" to store each color's rgb and hex values. Define a method called \"convert_codes()\" to retrieve one value given the other. Create at least one instance of Color and try the convert_codes() method.\n",
        "\n",
        "class Color:\n",
        "  def __init__(self, rgb, hex_value):\n",
        "    self.rgb = rgb\n",
        "    self.hex = hex_value\n",
        "  \n",
        "  def convert_codes(self, color_id):\n",
        "    if color_id is str:\n",
        "      return self.rgb\n",
        "    else:\n",
        "      return self.hex\n",
        "\n",
        "\n",
        "\n",
        "red = Color((255,0,0),\"FF0000\")\n",
        "\n",
        "\n",
        "red.convert_codes(\"FF0000\")\n",
        "\n",
        "##not sure why, but I cant get this one to work. no matter the input it just outputs color_id\n"
      ],
      "execution_count": 40,
      "outputs": [
        {
          "output_type": "execute_result",
          "data": {
            "text/plain": [
              "'FF0000'"
            ]
          },
          "metadata": {
            "tags": []
          },
          "execution_count": 40
        }
      ]
    },
    {
      "cell_type": "markdown",
      "metadata": {
        "id": "Cjy2bCYo_8R0",
        "colab_type": "text"
      },
      "source": [
        "\n",
        "\n",
        "### P2.PY\n",
        "\n",
        "\n"
      ]
    },
    {
      "cell_type": "code",
      "metadata": {
        "id": "cmOA0Onq_8R1",
        "colab_type": "code",
        "colab": {}
      },
      "source": [
        "\"\"\"\n",
        "Phone Contacts\n",
        "\"\"\" \n",
        "\n",
        "# Create a class called \"Contact\" that will store the below items for each contact in your phone. The starred items should be required.\n",
        "    ### name*\n",
        "    ### mobile_num\n",
        "    ### work_num\n",
        "    ### email\n",
        "\n",
        "class Contact:\n",
        "  def __init__(self, name, mobile_num = 0, work_num = 0, email = \"\"):\n",
        "    self.name = name\n",
        "    self.mobile = mobile_num\n",
        "    self.work = work_num\n",
        "    self.email = email\n",
        "\n"
      ],
      "execution_count": 0,
      "outputs": []
    },
    {
      "cell_type": "markdown",
      "metadata": {
        "id": "Oi4aBzj8_8R3",
        "colab_type": "text"
      },
      "source": [
        "\n",
        "\n",
        "### P3.PY\n",
        "\n",
        "\n"
      ]
    },
    {
      "cell_type": "code",
      "metadata": {
        "id": "2cZvEfWl_8R4",
        "colab_type": "code",
        "colab": {
          "base_uri": "https://localhost:8080/",
          "height": 51
        },
        "outputId": "393aa7f2-7f4c-4e82-9926-584bb356b114"
      },
      "source": [
        "\"\"\"\n",
        "Rectangle\n",
        "\"\"\"\n",
        "\n",
        "# Write a Python class named \"Rectangle\" constructed by values for length and width. It should include two methods to calculate the \"area\" and the \"perimeter\" of a rectangle. Instantiate a Rectangle and call both methods.\n",
        "\n",
        "class Rectangle:\n",
        "  def __init__(self, length, width):\n",
        "    self.length = length\n",
        "    self.width = width\n",
        "\n",
        "  def area(self):\n",
        "    area = self.length*self.width\n",
        "    return area\n",
        "  def perimeter(self):\n",
        "    perimeter = self.length*2 + self.width*2\n",
        "    return perimeter\n",
        "\n",
        "x = Rectangle(4,3)\n",
        "print(x.area())\n",
        "print(x.perimeter())\n",
        "  "
      ],
      "execution_count": 45,
      "outputs": [
        {
          "output_type": "stream",
          "text": [
            "12\n",
            "14\n"
          ],
          "name": "stdout"
        }
      ]
    },
    {
      "cell_type": "markdown",
      "metadata": {
        "id": "OP5ohc1O_8R8",
        "colab_type": "text"
      },
      "source": [
        "\n",
        "\n",
        "### P4.PY\n",
        "\n",
        "\n"
      ]
    },
    {
      "cell_type": "code",
      "metadata": {
        "id": "Ic6h95ka_8R9",
        "colab_type": "code",
        "colab": {
          "base_uri": "https://localhost:8080/",
          "height": 51
        },
        "outputId": "170f2c83-32d9-412e-e37d-5d9112559726"
      },
      "source": [
        "\"\"\"\n",
        "Circle\n",
        "\"\"\"\n",
        "\n",
        "# Write a Python class named \"Circle\" constructed by a radius value and a class attribute for pi. You can use 3.14159 for the value of pi for simplicity. It should include two methods to calculate the \"area\" and the \"perimeter\" of a circle. Instantiate a Circle and call both methods.\n",
        "\n",
        "\n",
        "class Circle:\n",
        "  pi = 3.14159\n",
        "  def __init__(self, radius):\n",
        "    self.radius = radius\n",
        "\n",
        "    \n",
        "  def area(self):\n",
        "    area = self.pi*self.radius*self.radius\n",
        "    return area\n",
        "  def perimeter(self):\n",
        "    perimeter = self.pi*self.radius*2\n",
        "    return perimeter\n",
        "\n",
        "  \n",
        "y = Circle(4)\n",
        "print(y.area())\n",
        "print(y.perimeter())"
      ],
      "execution_count": 53,
      "outputs": [
        {
          "output_type": "stream",
          "text": [
            "50.26544\n",
            "25.13272\n"
          ],
          "name": "stdout"
        }
      ]
    },
    {
      "cell_type": "markdown",
      "metadata": {
        "id": "DlN6swmq_8R_",
        "colab_type": "text"
      },
      "source": [
        "\n",
        "\n",
        "### P5.PY\n",
        "\n",
        "\n"
      ]
    },
    {
      "cell_type": "code",
      "metadata": {
        "id": "saTFo7_p_8SA",
        "colab_type": "code",
        "colab": {
          "base_uri": "https://localhost:8080/",
          "height": 34
        },
        "outputId": "9beffc2e-4e05-4930-e154-b047dc7a1a45"
      },
      "source": [
        "\"\"\"\n",
        "Vehicles I \n",
        "\"\"\"\n",
        "\n",
        "# Create a \"Vehicle\" class with a class attribute for category ('transportion') and a method called \"start_engine()\" that prints \"Vroom!\". Add \"name\" as an instance method and instantiate a Vehicle called \"submarine\". Access all its attributes and methods for practice.\n",
        "\n",
        "# Note: See Vehicles II in p6 for an explanation of why we chose \"submarine\" as a vehicle instance!\n",
        "\n",
        "\n",
        "class Vehicle:\n",
        "  category = \"transportation\"\n",
        "  \n",
        "  def engine():\n",
        "    print(\"Vroom!\")\n",
        "  def __init__(self,name):\n",
        "    self.name = name\n",
        "  \n",
        "sub = Vehicle(\"submarine\")\n",
        "print(f\"{sub.name} is a type of {sub.category}\")"
      ],
      "execution_count": 58,
      "outputs": [
        {
          "output_type": "stream",
          "text": [
            "submarine is a type of transportation\n"
          ],
          "name": "stdout"
        }
      ]
    },
    {
      "cell_type": "markdown",
      "metadata": {
        "id": "p9aTQABb_8SE",
        "colab_type": "text"
      },
      "source": [
        "\n",
        "\n",
        "### P6.PY\n",
        "\n",
        "\n"
      ]
    },
    {
      "cell_type": "code",
      "metadata": {
        "id": "jpWDyTLU_8SF",
        "colab_type": "code",
        "colab": {
          "base_uri": "https://localhost:8080/",
          "height": 68
        },
        "outputId": "46037804-b66b-4f33-a738-645eb7abce6b"
      },
      "source": [
        "\"\"\"\n",
        "Vehicles II\n",
        "\"\"\"\n",
        "\n",
        "# Define 3 unique child classes for Vehicle - Car, Plane, and Boat. Each of these should have its own class attributes for \"motion\" and \"terrain\". (For Car, these would be something like \"drive\" and \"land\".)\n",
        "\n",
        "## For Car, define a method called \"honk_horn()\" that prints \"HONK!\"\n",
        "## For Plane, define a method called \"take_off()\" that prints \"Fasten your seatbelts!\"\n",
        "## For Boat, define a method called \"drop_achor()\" that prints \"Anchors away!\"\n",
        "\n",
        "# Create an instance of each child class. Access all their attributes and methods, including those inherited from their parent class Vehicle.\n",
        "\n",
        "# TAKEAWAY! - Vehicle is the baseline class for other more specific types of vehicles. Typically, you wouldn't instantiate a Vehicle because the child classes are more useful for storing information about vehicles. The Vehicle class serves to create a relationship between its children. However, \"submarine\" might be created as a Vehicle because it's so rare that you might not need a full Submarine class!\n",
        "\n",
        "\n",
        "class Vehicle:\n",
        "  category = \"transportation\"\n",
        "  \n",
        "class Car(Vehicle):\n",
        "  motion = \"drive\"\n",
        "  terrain = \"land\"\n",
        "  \n",
        "  def honk_horn(self):\n",
        "    return \"HONK!\"\n",
        "    \n",
        "class Plane(Vehicle):\n",
        "  motion = \"fly\"\n",
        "  terrain = \"air\"\n",
        "  \n",
        "  def take_off(self):\n",
        "    return \"Fasten your seatbelts.\"\n",
        "    \n",
        "class Boat(Vehicle):\n",
        "  motion = \"swim\"\n",
        "  terrain = \"water\"\n",
        "  \n",
        "  def drop_achor(self):\n",
        "    return \"Anchors away!\"\n",
        "    \n",
        "car = Car()\n",
        "plane = Plane()\n",
        "boat = Boat()\n",
        "\n",
        "\n",
        "\n",
        "print(f\"The car is a mode of {car.category} and it says {car.honk_horn()}\")\n",
        "print(f\"The boat is a mode of {boat.category} and it says {boat.drop_achor()}\")\n",
        "print(f\"The plane is a mode of {plane.category} and it says {plane.take_off()}\")\n",
        "  "
      ],
      "execution_count": 71,
      "outputs": [
        {
          "output_type": "stream",
          "text": [
            "The car is a mode of transportation and it says HONK!\n",
            "The boat is a mode of transportation and it says Anchors away!\n",
            "The plane is a mode of transportation and it says Fasten your seatbelts.\n"
          ],
          "name": "stdout"
        }
      ]
    },
    {
      "cell_type": "markdown",
      "metadata": {
        "id": "xhMW_tnC_8SH",
        "colab_type": "text"
      },
      "source": [
        "\n",
        "\n",
        "### P7.PY\n",
        "\n",
        "\n"
      ]
    },
    {
      "cell_type": "code",
      "metadata": {
        "id": "6H8EPprZ_8SI",
        "colab_type": "code",
        "colab": {}
      },
      "source": [
        "\"\"\"\n",
        "Vehicles III\n",
        "\"\"\"\n",
        "\n",
        "# Let's expand the Car class to be more comprehensive. Include attributes for brand name, plates, owner, fuel, fuel_level (a numerical amount that defaults to 50, and max speed in MPH that defaults to None. \n",
        "\n",
        "# Next, define new method called \"check_fuel_level()\". If the fuel_level attribute is < 15, the method should reset fuel_level to 50 and print out how many units it refueled the car, e.g. 'Refueled 38 units.' Otherwise, it should simply print 'No need to refuel right now.'\n",
        "\n",
        "# Create at least TWO instances of Car, one of which has a fuel level below 15. Access the new attributes and call the check_fuel_level() method for each instance. "
      ],
      "execution_count": 0,
      "outputs": []
    },
    {
      "cell_type": "markdown",
      "metadata": {
        "id": "g_QTBgBu_8SL",
        "colab_type": "text"
      },
      "source": [
        "\n",
        "\n",
        "### P8.PY\n",
        "\n",
        "\n"
      ]
    },
    {
      "cell_type": "code",
      "metadata": {
        "id": "nEkDRXdi_8SM",
        "colab_type": "code",
        "colab": {}
      },
      "source": [
        "\"\"\"\n",
        "Dogs I - Breeds\n",
        "\"\"\" \n",
        "\n",
        "# A) Create a class called \"Dog\". It should include: \n",
        "### A class attribute \"domesticated\" w. value True\n",
        "### An instance method called \"bark()\" that prints \"Woof!\"\n",
        "\n",
        "# B) Create child class for 3 dog breeds - Collie, Siberian Husky, and Pekingese. Each should have:\n",
        "### 2 class attributes for \"breed\" and \"temperament\". The latter should be a list.\n",
        "### 3 instance attributes for \"name\", \"age\", and \"gender\".\n",
        "\n",
        "# C) Add an instance method to Collie called \"herd_the_kids()\" that prints \"Here are your children!\"\n",
        "\n",
        "# D) Add an instance method called \"bark()\" to Pekingese. This should override the parent method \"bark()\" such that when you call bark() on an instance of Pekingese, it prints \"Yap!\" instead.\n",
        "\n",
        "# E) Instantiate one of each breed. Access the attributes, methods, and parent methods of each one. BONUS: Aside from herd_the_kids(), you should be able to do this in a loop.\n",
        "\n",
        "\n"
      ],
      "execution_count": 0,
      "outputs": []
    },
    {
      "cell_type": "markdown",
      "metadata": {
        "id": "Yfxy-DpC_8SO",
        "colab_type": "text"
      },
      "source": [
        "\n",
        "\n",
        "### P9.PY\n",
        "\n",
        "\n"
      ]
    },
    {
      "cell_type": "code",
      "metadata": {
        "id": "BoZn1acH_8SP",
        "colab_type": "code",
        "colab": {}
      },
      "source": [
        "\"\"\"\n",
        "Dogs II - Tricks (CHALLENGE!)\n",
        "\"\"\"\n",
        "\n",
        "# Many dogs know how to do common tricks or follow common commands. You could create methods for each trick/command in the Dog parent class, but the problem is that not all dogs know all tricks/commands. \n",
        "\n",
        "# However, it would be inefficient to define a custom set of instance methods for tricks/commands every time you instantiate a unique Collie (or SiberianHuskey or Pekingese etc.).\n",
        "\n",
        "# Find an efficient way to specify which tricks each unique dog knows and to call them. You can use \"roll_over\", \"fetch\", \"shake_hands\", and \"spin\". Secondly, find a way to teach a dog new trick from this set.\n",
        "\n",
        "\n"
      ],
      "execution_count": 0,
      "outputs": []
    },
    {
      "cell_type": "markdown",
      "metadata": {
        "id": "njxnEmLy_8SS",
        "colab_type": "text"
      },
      "source": [
        "\n",
        "\n",
        "## CLASS_BASICS_2\n",
        "\n",
        "### P1.PY\n",
        "\n",
        "\n"
      ]
    },
    {
      "cell_type": "code",
      "metadata": {
        "id": "_NDvwbc8_8ST",
        "colab_type": "code",
        "colab": {
          "base_uri": "https://localhost:8080/",
          "height": 34
        },
        "outputId": "127524a1-7a79-4b6a-e08d-b795238d9ac5"
      },
      "source": [
        "\"\"\"\n",
        "Dog Class\n",
        "\"\"\"\n",
        "\n",
        "# Implement a class called \"Dog\" with the following properties:\n",
        "# name\n",
        "# breed\n",
        "# age\n",
        "\n",
        "class Dog:\n",
        "  def __init__(self, name, breed, age):\n",
        "    self.name = name\n",
        "    self.breed = breed\n",
        "    self.age = age\n",
        "\n",
        "puppy = Dog(\"Zane\", \"Aussie\", 2)\n",
        "print(puppy.name)"
      ],
      "execution_count": 2,
      "outputs": [
        {
          "output_type": "stream",
          "text": [
            "Zane\n"
          ],
          "name": "stdout"
        }
      ]
    },
    {
      "cell_type": "markdown",
      "metadata": {
        "id": "yMk9_Xji_8SW",
        "colab_type": "text"
      },
      "source": [
        "\n",
        "\n",
        "### P2.PY\n",
        "\n",
        "\n"
      ]
    },
    {
      "cell_type": "code",
      "metadata": {
        "id": "QxWJ2kq1_8SX",
        "colab_type": "code",
        "colab": {
          "base_uri": "https://localhost:8080/",
          "height": 51
        },
        "outputId": "44722f63-cf63-4102-a1f8-891cfe3166ae"
      },
      "source": [
        "\"\"\"\n",
        "Cat class\n",
        "\"\"\"\n",
        "\n",
        "# Implement a class called \"Cat\" with the following properties:\n",
        "# name\n",
        "# breed\n",
        "# age\n",
        "\n",
        "# also, implement a method called \"speak\" that should print out \"purr\"\n",
        "\n",
        "\n",
        "class Cat:\n",
        "  def __init__(self, name, breed, age):\n",
        "    self.name = name\n",
        "    self.breed = breed\n",
        "    self.age = age\n",
        "  def speak(self):\n",
        "    print(\"purr\")\n",
        "\n",
        "kittie = Cat(\"Streaks\", \"Tabby\", 13)\n",
        "print(kittie.name)\n",
        "kittie.speak()"
      ],
      "execution_count": 6,
      "outputs": [
        {
          "output_type": "stream",
          "text": [
            "Streaks\n",
            "purr\n"
          ],
          "name": "stdout"
        }
      ]
    },
    {
      "cell_type": "markdown",
      "metadata": {
        "id": "_-2ya9wr_8Sa",
        "colab_type": "text"
      },
      "source": [
        "\n",
        "\n",
        "### P3.PY\n",
        "\n",
        "\n"
      ]
    },
    {
      "cell_type": "code",
      "metadata": {
        "id": "_beqb-zc_8Sc",
        "colab_type": "code",
        "colab": {
          "base_uri": "https://localhost:8080/",
          "height": 34
        },
        "outputId": "854d9440-1805-48d0-b4f7-1ab6c3525751"
      },
      "source": [
        "\"\"\"\n",
        "Student class\n",
        "\"\"\"\n",
        "\n",
        "# Create a Student class and initialize it with name and roll number. Make methods to :\n",
        "# 1. Display - It should display all informations of the student.\n",
        "# 2. setAge - It should assign age to student\n",
        "# 3. setMarks - It should assign marks to the student.\n",
        "\n",
        "\n",
        "class Student:\n",
        "  def __init__(self, name, roll_number):\n",
        "    self.name = name\n",
        "    self.roll_number = roll_number\n",
        "    self.age = 0\n",
        "    self.marks = 0\n",
        "  \n",
        "  def display(self):\n",
        "    print(f'name = {self.name}, roll_number = {self.roll_number}, age = {self.age}, marks = {self.marks}')\n",
        "  def setAge(self, age=0):\n",
        "    self.age = age\n",
        "  def setMarks(self, marks=0):\n",
        "    self.marks = marks\n",
        "\n",
        "          \n",
        "s = Student(\"Laura\", 1)\n",
        "s.display()\n"
      ],
      "execution_count": 12,
      "outputs": [
        {
          "output_type": "stream",
          "text": [
            "name = Laura, roll_number = 1, age = 0, marks = 0\n"
          ],
          "name": "stdout"
        }
      ]
    },
    {
      "cell_type": "markdown",
      "metadata": {
        "id": "uDi6JyLZ_8Se",
        "colab_type": "text"
      },
      "source": [
        "\n",
        "\n",
        "### P4.PY\n",
        "\n",
        "\n"
      ]
    },
    {
      "cell_type": "code",
      "metadata": {
        "id": "8CpRl_tv_8Se",
        "colab_type": "code",
        "colab": {}
      },
      "source": [
        "\"\"\"\n",
        "Person class\n",
        "\"\"\"\n",
        "\n",
        "# Create a Person class with the following properties\n",
        "# 1. name\n",
        "# 2. age\n",
        "# 3. social security number\n",
        "\n",
        "class Person:\n",
        "  def __init__(self, name, age, social_security):\n",
        "    self.name = name\n",
        "    self.age = age\n",
        "    self.social_security = social_security\n",
        "\n",
        "    \n",
        "  "
      ],
      "execution_count": 0,
      "outputs": []
    },
    {
      "cell_type": "markdown",
      "metadata": {
        "id": "KF0sN43o_8Sg",
        "colab_type": "text"
      },
      "source": [
        "\n",
        "\n",
        "### P5.PY\n",
        "\n",
        "\n"
      ]
    },
    {
      "cell_type": "code",
      "metadata": {
        "id": "MmrCCmml_8Sh",
        "colab_type": "code",
        "colab": {
          "base_uri": "https://localhost:8080/",
          "height": 34
        },
        "outputId": "70cecf04-3dd4-4ac8-984b-188186cb39c3"
      },
      "source": [
        "\"\"\"\n",
        "Vehicle class\n",
        "\"\"\"\n",
        "\n",
        "# Create a Vehicle class with the following properties\n",
        "\n",
        "# * name\n",
        "# * kind\n",
        "# * color\n",
        "# * value\n",
        "\n",
        "# It should also have a description method that returns something like:\n",
        "# \"{name} is a {color} {kind} worth {value}.\"\n",
        "\n",
        "class Person:\n",
        "  def __init__(self, name, kind, color, value):\n",
        "    self.name = name\n",
        "    self.kind = kind\n",
        "    self.color = color\n",
        "    self.value = value\n",
        "\n",
        "  def description(self):\n",
        "    print(f\"{self.name} is a {self.color} {self.kind} worth {self.value}.\")\n",
        "    \n",
        "kia = Person(\"Jeremy\", \"Kia Sorento\", \"blue\", \"nothing\")\n",
        "kia.description()\n"
      ],
      "execution_count": 15,
      "outputs": [
        {
          "output_type": "stream",
          "text": [
            "Jeremy is a blue Kia Sorento worth nothing.\n"
          ],
          "name": "stdout"
        }
      ]
    },
    {
      "cell_type": "markdown",
      "metadata": {
        "id": "hmkYzgRw_8Sj",
        "colab_type": "text"
      },
      "source": [
        "\n",
        "\n",
        "## WEDDING_GUESTS\n",
        "\n",
        "### P1.PY\n",
        "\n",
        "\n"
      ]
    },
    {
      "cell_type": "code",
      "metadata": {
        "id": "_spySq_t_8Sk",
        "colab_type": "code",
        "colab": {}
      },
      "source": [
        "\"\"\"\n",
        "Weddings I - Guest List\n",
        "\"\"\"\n",
        "\n",
        "# Imagine for this problem set that you are planning a wedding. \n",
        "\n",
        "\n",
        "# A) Define a class called \"Guest\" to help you manage all the information about each invitee. This should initially include instance attributes for the guests's name, phone, and an optional \"invite_sent\" that defaults to False. Guest should also include an instance method called \"send_invite()\", which changes the value of invite_sent to True once you send an invitation to that guest.\n",
        "\n",
        "\n",
        "\n",
        "# B) Next, define a child class called \"Bridesmaid\", which includes the same initial attributes and inherits Guest's instance method.\n",
        "\n",
        "\n",
        "\n",
        "# C) Finally, create at least one instance of each class and do the following:\n",
        "### Call send_invite() on each instance.\n",
        "### Check whether Bridesmaid is a child of Guest and vice versa."
      ],
      "execution_count": 0,
      "outputs": []
    },
    {
      "cell_type": "markdown",
      "metadata": {
        "id": "yrvcnK_c_8So",
        "colab_type": "text"
      },
      "source": [
        "\n",
        "\n",
        "### P2.PY\n",
        "\n",
        "\n"
      ]
    },
    {
      "cell_type": "code",
      "metadata": {
        "id": "Zp5uMsol_8Sq",
        "colab_type": "code",
        "colab": {}
      },
      "source": [
        "\"\"\"\n",
        "Weddings II - Record Bridesmaid RSVPs\n",
        "\"\"\"\n",
        "\n",
        "# Create a method in Guest to record a guests's rsvp to your invitation. It should record whether they have any dietary restrictions (e.g. vegetarian, kosher, halal, etc.) and whether they're bringing a plus one. If they are bringing a plus one, it should record the name of the plus one and his/her dietary restrictions if any. These values should be stored in instance attributes.\n",
        "\n",
        "# Try out this method on at least one instance of Guest and at least one instance of Bridesmaid."
      ],
      "execution_count": 0,
      "outputs": []
    },
    {
      "cell_type": "markdown",
      "metadata": {
        "id": "pKIYaeme_8Sw",
        "colab_type": "text"
      },
      "source": [
        "\n",
        "\n",
        "### P3.PY\n",
        "\n",
        "\n"
      ]
    },
    {
      "cell_type": "code",
      "metadata": {
        "id": "HY4Hv1Dz_8Sx",
        "colab_type": "code",
        "colab": {}
      },
      "source": [
        "\"\"\"\n",
        "Weddings III - Record Shower & Bachelorette RSVP\n",
        "\"\"\"\n",
        "\n",
        "# Create two methods in Bridesmaid to record a the bridesmaid's rsvp to the bridal shower and the bachelorette party. You can call them \"record_shower_rsvp()\" and \"record_bachelorette_rsvp()\". They will work just like the general \"record_rsvp()\" except there will be no plus ones or diet questions. Their rsvp answers should be stored in instance attributes with the same name (i.e. shower_rsvp & bachelorette_rsvp)."
      ],
      "execution_count": 0,
      "outputs": []
    },
    {
      "cell_type": "markdown",
      "metadata": {
        "id": "2tSTmTfM_8S1",
        "colab_type": "text"
      },
      "source": [
        "\n"
      ]
    }
  ]
}